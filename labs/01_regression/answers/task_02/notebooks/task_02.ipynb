{
 "cells": [
  {
   "cell_type": "markdown",
   "metadata": {},
   "source": [
    "# Escolha de modelos e análise de erros\n",
    "\n",
    "Nesta fase vamos fazer o seguinte:\n",
    "\n",
    "- Construir uma *pipeline* de processamento dos dados;\n",
    "- Elencar alguns modelos a serem analisados;\n",
    "- Fazer mais uma separação de dados. Desta vez vamos dividir o conjunto de treino em dois: treino e validação;\n",
    "- Escolher o melhor modelo baseado no erro no conjunto de validação;\n",
    "- Analisar o *resíduo*: a diferença entre o valor predito e o valor real. Será que tem algum padrão residual aqui?\n",
    "\n",
    "Primeiro, vamos carregar os dados pré-processados:"
   ]
  },
  {
   "cell_type": "code",
   "execution_count": 1,
   "metadata": {},
   "outputs": [],
   "source": [
    "from pathlib import Path\n",
    "\n",
    "import pandas as pd\n",
    "from lab01.config import DATA_DIR\n",
    "from lab01.dataloader import load_preprocessed_data"
   ]
  },
  {
   "cell_type": "code",
   "execution_count": 2,
   "metadata": {},
   "outputs": [],
   "source": [
    "def load_X_y(data_dir: Path) -> tuple[pd.DataFrame, pd.Series]:\n",
    "    data = load_preprocessed_data(DATA_DIR)\n",
    "    X = data.drop(columns=['log_median_house_value'])\n",
    "    y = data['log_median_house_value']\n",
    "    return X, y\n",
    "\n",
    "\n",
    "X, y = load_X_y(DATA_DIR)"
   ]
  },
  {
   "cell_type": "markdown",
   "metadata": {},
   "source": [
    "Vamos agora dividir os dados em treino e teste, e dividir novamente em treino (final) e validação."
   ]
  },
  {
   "cell_type": "code",
   "execution_count": 3,
   "metadata": {},
   "outputs": [],
   "source": [
    "from sklearn.model_selection import train_test_split\n",
    "\n",
    "\n",
    "def split_data(\n",
    "    X,\n",
    "    y,\n",
    "    test_size=0.2,\n",
    "    random_seed=42,\n",
    ") -> tuple[\n",
    "        pd.DataFrame,\n",
    "        pd.DataFrame,\n",
    "        pd.Series,\n",
    "        pd.Series,\n",
    "]:\n",
    "    return train_test_split(\n",
    "        X,\n",
    "        y,\n",
    "        test_size=test_size,\n",
    "        random_state=random_seed,\n",
    "    )\n",
    "\n",
    "\n",
    "X_train, X_test, y_train, y_test = split_data(X, y)\n",
    "X_train, X_val, y_train, y_val = split_data(X_train, y_train)"
   ]
  },
  {
   "cell_type": "code",
   "execution_count": 4,
   "metadata": {},
   "outputs": [],
   "source": [
    "from sklearn.compose import ColumnTransformer\n",
    "from sklearn.impute import SimpleImputer\n",
    "from sklearn.pipeline import Pipeline\n",
    "from sklearn.preprocessing import OneHotEncoder, StandardScaler"
   ]
  },
  {
   "cell_type": "code",
   "execution_count": 5,
   "metadata": {},
   "outputs": [],
   "source": [
    "numerical_cols = [\n",
    "    'longitude',\n",
    "    'latitude',\n",
    "    'housing_median_age',\n",
    "    'log_households',\n",
    "    'log_median_income',\n",
    "    'log_rooms_per_household',\n",
    "    'log_population_per_household',\n",
    "    'log_bedrooms_per_room',\n",
    "]\n",
    "\n",
    "categorical_cols = [\n",
    "    'ocean_proximity',\n",
    "]\n",
    "num_pipeline = Pipeline([\n",
    "    ('imputer', SimpleImputer(strategy='median')),\n",
    "    ('scaler', StandardScaler()),\n",
    "])\n",
    "\n",
    "cat_pipeline = Pipeline([\n",
    "    ('encoder', OneHotEncoder()),\n",
    "])\n",
    "\n",
    "preprocessing_pipe = ColumnTransformer(transformers=[\n",
    "    ('num', num_pipeline, numerical_cols),\n",
    "    ('cat', cat_pipeline, categorical_cols),\n",
    "])"
   ]
  },
  {
   "cell_type": "markdown",
   "metadata": {},
   "source": [
    "## Escolha de modelos"
   ]
  },
  {
   "cell_type": "code",
   "execution_count": 6,
   "metadata": {},
   "outputs": [],
   "source": [
    "from sklearn.linear_model import LinearRegression\n",
    "\n",
    "lin_reg = Pipeline([\n",
    "    ('preprocessing', preprocessing_pipe),\n",
    "    ('regression', LinearRegression()),\n",
    "])"
   ]
  },
  {
   "cell_type": "code",
   "execution_count": 7,
   "metadata": {},
   "outputs": [],
   "source": [
    "from sklearn.tree import DecisionTreeRegressor\n",
    "\n",
    "tree_reg = Pipeline([\n",
    "    ('preprocessing', preprocessing_pipe),\n",
    "    ('regression', DecisionTreeRegressor(random_state=42)),\n",
    "])"
   ]
  },
  {
   "cell_type": "code",
   "execution_count": 8,
   "metadata": {},
   "outputs": [],
   "source": [
    "from sklearn.ensemble import RandomForestRegressor\n",
    "\n",
    "forest_reg = Pipeline([\n",
    "    ('preprocessing', preprocessing_pipe),\n",
    "    ('regression', RandomForestRegressor(random_state=42)),\n",
    "])"
   ]
  },
  {
   "cell_type": "code",
   "execution_count": 9,
   "metadata": {},
   "outputs": [],
   "source": [
    "from typing import Any\n",
    "\n",
    "experiments: list[dict[str, Any]] = [\n",
    "    {\n",
    "        'name': 'Linear Regression',\n",
    "        'model': lin_reg,\n",
    "    },\n",
    "    {\n",
    "        'name': 'Decision Tree',\n",
    "        'model': tree_reg,\n",
    "    },\n",
    "    {\n",
    "        'name': 'Random Forest',\n",
    "        'model': forest_reg\n",
    "    },\n",
    "]"
   ]
  },
  {
   "cell_type": "code",
   "execution_count": 10,
   "metadata": {},
   "outputs": [],
   "source": [
    "import numpy as np\n",
    "from sklearn.base import BaseEstimator\n",
    "from sklearn.metrics import root_mean_squared_error\n",
    "\n",
    "\n",
    "def train_and_evaluate_model(\n",
    "    model: BaseEstimator,\n",
    "    X_train: pd.DataFrame,\n",
    "    y_train: np.array,\n",
    "    X_val: pd.DataFrame,\n",
    "    y_val: np.array,\n",
    ") -> float:\n",
    "    '''Trains and evaluates a model.\n",
    "\n",
    "    Args:\n",
    "        model: A scikit-learn model.\n",
    "        X_train: The training features.\n",
    "        y_train: The training target.\n",
    "        X_val: The validation features.\n",
    "        y_val: The validation target.\n",
    "\n",
    "    Returns:\n",
    "        The root mean squared error of the model on the validation set.\n",
    "    '''\n",
    "    model.fit(X_train, y_train)\n",
    "    y_pred = model.predict(X_val)\n",
    "    rmse = root_mean_squared_error(y_val, y_pred)\n",
    "    return rmse"
   ]
  },
  {
   "cell_type": "code",
   "execution_count": 11,
   "metadata": {},
   "outputs": [
    {
     "name": "stdout",
     "output_type": "stream",
     "text": [
      "Linear Regression: RMSE = 0.1243, Percentage Error = 33.15%\n",
      "Decision Tree: RMSE = 0.1259, Percentage Error = 33.62%\n",
      "Random Forest: RMSE = 0.0905, Percentage Error = 23.17%\n"
     ]
    }
   ],
   "source": [
    "for experiment in experiments:\n",
    "    name = experiment['name']\n",
    "    model = experiment['model']\n",
    "\n",
    "    rmse = train_and_evaluate_model(model, X_train, y_train, X_val, y_val)\n",
    "    percentage_error = 100.0 * (10.0**rmse - 1.0)\n",
    "\n",
    "    experiment['rmse'] = rmse\n",
    "\n",
    "    print(f'{name}: '\n",
    "          f'RMSE = {rmse:.4f}, '\n",
    "          f'Percentage Error = {percentage_error:.2f}%')"
   ]
  },
  {
   "cell_type": "code",
   "execution_count": 12,
   "metadata": {},
   "outputs": [
    {
     "name": "stdout",
     "output_type": "stream",
     "text": [
      "\n",
      "Best model: Random Forest\n"
     ]
    }
   ],
   "source": [
    "best_model = min(experiments, key=lambda x: x['rmse'])\n",
    "print(f'\\nBest model: {best_model[\"name\"]}')"
   ]
  },
  {
   "cell_type": "markdown",
   "metadata": {},
   "source": [
    "## Avaliação"
   ]
  }
 ],
 "metadata": {
  "kernelspec": {
   "display_name": "ml",
   "language": "python",
   "name": "python3"
  },
  "language_info": {
   "codemirror_mode": {
    "name": "ipython",
    "version": 3
   },
   "file_extension": ".py",
   "mimetype": "text/x-python",
   "name": "python",
   "nbconvert_exporter": "python",
   "pygments_lexer": "ipython3",
   "version": "3.12.9"
  }
 },
 "nbformat": 4,
 "nbformat_minor": 2
}
